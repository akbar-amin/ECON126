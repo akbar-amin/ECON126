{
 "cells": [
  {
   "cell_type": "code",
   "execution_count": null,
   "metadata": {},
   "outputs": [],
   "source": [
    "import numpy as np\n",
    "import pandas as pd\n",
    "import linearsolve as ls\n",
    "import matplotlib.pyplot as plt\n",
    "plt.style.use('classic')\n",
    "%matplotlib inline"
   ]
  },
  {
   "cell_type": "markdown",
   "metadata": {},
   "source": [
    "# Homework 7\n",
    "\n",
    "**Instructions:** Complete the notebook below. Download the completed notebook in HTML format. Upload assignment using Canvas.\n",
    "\n",
    "**Due:** Feb. 23 at **2pm.**"
   ]
  },
  {
   "source": [
    "## Exercise: The Labor-Leisure Tradeoff\n",
    "\n",
    "\\begin{align}\n",
    "\\frac{\\varphi}{1-L_t} & = \\frac{(1-\\alpha)A_tK_t^{\\alpha}L_t^{-\\alpha}}{C_t} \\tag{1}\n",
    "\\end{align}\n",
    "\n",
    "**Questions** \n",
    "\n",
    "1. Explain words why the left-hand side of equation (1) represents the marginal cost to the household of working. A complete answer will make use of the term *marginal utility* .\n",
    "2. Explain words why the right-hand side of equation (1) represents the marginal benefit to the household of supplying labor (i.e., working). A complete answer will make use of the terms *marginal utility* and *marginal product*.\n",
    "3. Holding everything else constant, according to equation (1), what effect will an increase in TFP have on equilibrium labor? Explain the economic intuition behind your answer.\n",
    "4. Holding everything else constant, according to equation (1), what effect will an increase in household consumption have on equilibrium labor? Explain the economic intuition behind your answer."
   ],
   "cell_type": "markdown",
   "metadata": {}
  },
  {
   "source": [
    "**Answers**\n",
    "\n",
    "1. This denominator represents the utility for *not* working, or leisure. Therefore, the marginal utility gained from leisure is the satisfaction (numerator) gained from an additional unit of leisure, which is at the cost of doing work. \n",
    "\n",
    "2. This represents the marginal utility of consumption (denominator) as the change in utility if one were to consume an additional unit of goods that was worked for. \n",
    "\n",
    "3. An increase in TFP shifts the labor demand curve to the right (outward). Productivity has increased and therefore there is an increase in labor demand. \n",
    "\n",
    "4. An increase in consuption shifts the labor supply curve to the left (inward). One of the reasons for this may be a change in workers' preferences. "
   ],
   "cell_type": "markdown",
   "metadata": {}
  },
  {
   "cell_type": "markdown",
   "metadata": {},
   "source": [
    "## Exercise: The Euler Equation\n",
    "\n",
    "\\begin{align}\n",
    "\\frac{1}{C_t} & = \\beta \\left[\\frac{\\alpha A_{t+1}K_{t+1}^{\\alpha-1}L_{t+1}^{1-\\alpha} +1-\\delta }{C_{t+1}}\\right]\\tag{2}\n",
    "\\end{align}\n",
    "\n",
    "**Questions** \n",
    "\n",
    "1. Explain words why the left-hand side of equation (2) represents the marginal cost to the household of saving (i.e., building new capital). A complete answer will make use of the term *marginal utility* .\n",
    "2. Explain words why the right-hand side of equation (2) represents the marginal benefit to the household of saving. A complete answer will make use of the terms *marginal utility* and *marginal product*.\n",
    "3. Holding everything else constant, according to equation (2), what effect will an increase in TFP in period $t+1$ have on the household's choice for capital in period $t+1$? Explain the economic intuition behind your answer.\n",
    "3. Holding everything else constant, according to equation (2), what effect will an increase in consumption in period $t$ have on the household's choice for capital in period $t+1$? Explain the economic intuition behind your answer.\n",
    "3. Holding everything else constant, according to equation (2), what effect will an increase in consumption in period $t+1$ have on the household's choice for capital in period $t+1$? Explain the economic intuition behind your answer."
   ]
  },
  {
   "source": [
    "**Answers**\n",
    "\n",
    "1. Consuming 1 more unit today yields its utility for today at the cost of its utility tomorrow (saving). In other words, if you consume today, you get the marginal utlity of consumption for today. \n",
    "\n",
    "2. Saving 1 more unit today yields extra units of utility in the future. The benefit the product between the numerator discounted by beta and the marginal utility of today, or the marginal product.  \n",
    "\n",
    "3. An increase in TFP will initially increase all factors, but then eventually return to its steady state. This is because labor is decays and lowers the demand for capital.  \n",
    "\n",
    "3. An increase in consumption today means that the marginal utility of consumption is low, therefore capital decreases in future periods sice you're saving less. \n",
    "\n",
    "4. An increase in savings means you benefit from extra utility, therefore capital increases in future periods.  "
   ],
   "cell_type": "markdown",
   "metadata": {}
  }
 ],
 "metadata": {
  "kernelspec": {
   "display_name": "Python 3",
   "language": "python",
   "name": "python3"
  },
  "language_info": {
   "codemirror_mode": {
    "name": "ipython",
    "version": 3
   },
   "file_extension": ".py",
   "mimetype": "text/x-python",
   "name": "python",
   "nbconvert_exporter": "python",
   "pygments_lexer": "ipython3",
   "version": "3.8.5"
  }
 },
 "nbformat": 4,
 "nbformat_minor": 2
}